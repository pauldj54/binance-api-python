{
 "cells": [
  {
   "cell_type": "code",
   "execution_count": 39,
   "metadata": {},
   "outputs": [
    {
     "data": {
      "text/markdown": [
       "# Accesing the Binance API public Endpoints\n",
       "\n",
       "[documentation](https://github.com/binance/binance-spot-api-docs/blob/master/rest-api.md)\n"
      ],
      "text/plain": [
       "<IPython.core.display.Markdown object>"
      ]
     },
     "metadata": {},
     "output_type": "display_data"
    }
   ],
   "source": [
    "%%markdown\n",
    "# Accesing the Binance API public Endpoints\n",
    "\n",
    "[documentation](https://github.com/binance/binance-spot-api-docs/blob/master/rest-api.md)"
   ]
  },
  {
   "cell_type": "code",
   "execution_count": 1,
   "metadata": {},
   "outputs": [],
   "source": [
    "import requests"
   ]
  },
  {
   "cell_type": "code",
   "execution_count": 28,
   "metadata": {},
   "outputs": [],
   "source": [
    "# Test API connectivity\n",
    "base_url = \"https://api.binance.com\"\n",
    "base_url_2 = \"https://data.binance.vision\"\n",
    "#res = requests.get(base_url + \"/api/v3/ping\", headers={'Authorization': 'TOK:<MY_TOKEN>'})\n",
    "res = requests.get(base_url + \"/api/v3/ping\")"
   ]
  },
  {
   "cell_type": "code",
   "execution_count": 11,
   "metadata": {},
   "outputs": [
    {
     "data": {
      "text/plain": [
       "requests.models.Response"
      ]
     },
     "execution_count": 11,
     "metadata": {},
     "output_type": "execute_result"
    }
   ],
   "source": [
    "type(res)"
   ]
  },
  {
   "cell_type": "code",
   "execution_count": 12,
   "metadata": {},
   "outputs": [
    {
     "data": {
      "text/plain": [
       "'{}'"
      ]
     },
     "execution_count": 12,
     "metadata": {},
     "output_type": "execute_result"
    }
   ],
   "source": [
    "res.text"
   ]
  },
  {
   "cell_type": "code",
   "execution_count": 13,
   "metadata": {},
   "outputs": [
    {
     "data": {
      "text/plain": [
       "'{\"serverTime\":1642866292981}'"
      ]
     },
     "execution_count": 13,
     "metadata": {},
     "output_type": "execute_result"
    }
   ],
   "source": [
    "# Get API server time\n",
    "res = requests.get(base_url + \"/api/v3/time\")\n",
    "res.text"
   ]
  },
  {
   "cell_type": "code",
   "execution_count": 17,
   "metadata": {},
   "outputs": [
    {
     "data": {
      "text/plain": [
       "'{\"timezone\":\"UTC\",\"serverTime\":1642866580801,\"rateLimits\":[{\"rateLimitType\":\"REQUEST_WEIGHT\",\"interval\":\"MINUTE\",\"intervalNum\":1,\"limit\":1200},{\"rateLimitType\":\"ORDERS\",\"interval\":\"SECOND\",\"intervalNum\":10,\"limit\":50},{\"rateLimitType\":\"ORDERS\",\"interval\":\"DAY\",\"intervalNum\":1,\"limit\":160000},{\"rateLimitType\":\"RAW_REQUESTS\",\"interval\":\"MINUTE\",\"intervalNum\":5,\"limit\":6100}],\"exchangeFilters\":[],\"symbols\":[{\"symbol\":\"BNBBTC\",\"status\":\"TRADING\",\"baseAsset\":\"BNB\",\"baseAssetPrecision\":8,\"quoteAsset\":\"BTC\",\"quotePrecision\":8,\"quoteAssetPrecision\":8,\"baseCommissionPrecision\":8,\"quoteCommissionPrecision\":8,\"orderTypes\":[\"LIMIT\",\"LIMIT_MAKER\",\"MARKET\",\"STOP_LOSS_LIMIT\",\"TAKE_PROFIT_LIMIT\"],\"icebergAllowed\":true,\"ocoAllowed\":true,\"quoteOrderQtyMarketAllowed\":true,\"isSpotTradingAllowed\":true,\"isMarginTradingAllowed\":true,\"filters\":[{\"filterType\":\"PRICE_FILTER\",\"minPrice\":\"0.00000100\",\"maxPrice\":\"100000.00000000\",\"tickSize\":\"0.00000100\"},{\"filterType\":\"PERCENT_PRICE\",\"multiplierUp\":\"5\",\"multiplierDown\":\"0.2\",\"avgPriceMins\":5},{\"filterType\":\"LOT_SIZE\",\"minQty\":\"0.00100000\",\"maxQty\":\"100000.00000000\",\"stepSize\":\"0.00100000\"},{\"filterType\":\"MIN_NOTIONAL\",\"minNotional\":\"0.00010000\",\"applyToMarket\":true,\"avgPriceMins\":5},{\"filterType\":\"ICEBERG_PARTS\",\"limit\":10},{\"filterType\":\"MARKET_LOT_SIZE\",\"minQty\":\"0.00000000\",\"maxQty\":\"10373.61618043\",\"stepSize\":\"0.00000000\"},{\"filterType\":\"MAX_NUM_ORDERS\",\"maxNumOrders\":200},{\"filterType\":\"MAX_NUM_ALGO_ORDERS\",\"maxNumAlgoOrders\":5}],\"permissions\":[\"SPOT\",\"MARGIN\"]},{\"symbol\":\"BTCUSDT\",\"status\":\"TRADING\",\"baseAsset\":\"BTC\",\"baseAssetPrecision\":8,\"quoteAsset\":\"USDT\",\"quotePrecision\":8,\"quoteAssetPrecision\":8,\"baseCommissionPrecision\":8,\"quoteCommissionPrecision\":8,\"orderTypes\":[\"LIMIT\",\"LIMIT_MAKER\",\"MARKET\",\"STOP_LOSS_LIMIT\",\"TAKE_PROFIT_LIMIT\"],\"icebergAllowed\":true,\"ocoAllowed\":true,\"quoteOrderQtyMarketAllowed\":true,\"isSpotTradingAllowed\":true,\"isMarginTradingAllowed\":true,\"filters\":[{\"filterType\":\"PRICE_FILTER\",\"minPrice\":\"0.01000000\",\"maxPrice\":\"1000000.00000000\",\"tickSize\":\"0.01000000\"},{\"filterType\":\"PERCENT_PRICE\",\"multiplierUp\":\"5\",\"multiplierDown\":\"0.2\",\"avgPriceMins\":5},{\"filterType\":\"LOT_SIZE\",\"minQty\":\"0.00001000\",\"maxQty\":\"9000.00000000\",\"stepSize\":\"0.00001000\"},{\"filterType\":\"MIN_NOTIONAL\",\"minNotional\":\"10.00000000\",\"applyToMarket\":true,\"avgPriceMins\":5},{\"filterType\":\"ICEBERG_PARTS\",\"limit\":10},{\"filterType\":\"MARKET_LOT_SIZE\",\"minQty\":\"0.00000000\",\"maxQty\":\"228.16621257\",\"stepSize\":\"0.00000000\"},{\"filterType\":\"MAX_NUM_ORDERS\",\"maxNumOrders\":200},{\"filterType\":\"MAX_NUM_ALGO_ORDERS\",\"maxNumAlgoOrders\":5}],\"permissions\":[\"SPOT\",\"MARGIN\"]}]}'"
      ]
     },
     "execution_count": 17,
     "metadata": {},
     "output_type": "execute_result"
    }
   ],
   "source": [
    "# Get Exchange information (Symbol list optional)\n",
    "res = requests.get(base_url + '/api/v3/exchangeInfo?symbols=[\"BTCUSDT\",\"BNBBTC\"]')\n",
    "res.text"
   ]
  },
  {
   "cell_type": "code",
   "execution_count": 23,
   "metadata": {},
   "outputs": [
    {
     "data": {
      "text/plain": [
       "'[{\"id\":321098860,\"price\":\"0.06854100\",\"qty\":\"0.14570000\",\"quoteQty\":\"0.00998642\",\"time\":1642866957973,\"isBuyerMaker\":false,\"isBestMatch\":true},{\"id\":321098861,\"price\":\"0.06855200\",\"qty\":\"0.11440000\",\"quoteQty\":\"0.00784234\",\"time\":1642866961812,\"isBuyerMaker\":false,\"isBestMatch\":true},{\"id\":321098862,\"price\":\"0.06854300\",\"qty\":\"0.04170000\",\"quoteQty\":\"0.00285824\",\"time\":1642866963562,\"isBuyerMaker\":true,\"isBestMatch\":true},{\"id\":321098863,\"price\":\"0.06854000\",\"qty\":\"0.04620000\",\"quoteQty\":\"0.00316654\",\"time\":1642866965220,\"isBuyerMaker\":true,\"isBestMatch\":true},{\"id\":321098864,\"price\":\"0.06854800\",\"qty\":\"0.02310000\",\"quoteQty\":\"0.00158345\",\"time\":1642866966301,\"isBuyerMaker\":true,\"isBestMatch\":true},{\"id\":321098865,\"price\":\"0.06855100\",\"qty\":\"0.00150000\",\"quoteQty\":\"0.00010282\",\"time\":1642866966922,\"isBuyerMaker\":false,\"isBestMatch\":true},{\"id\":321098866,\"price\":\"0.06855200\",\"qty\":\"0.05000000\",\"quoteQty\":\"0.00342760\",\"time\":1642866968080,\"isBuyerMaker\":true,\"isBestMatch\":true},{\"id\":321098867,\"price\":\"0.06855300\",\"qty\":\"0.08670000\",\"quoteQty\":\"0.00594354\",\"time\":1642866968089,\"isBuyerMaker\":false,\"isBestMatch\":true},{\"id\":321098868,\"price\":\"0.06855200\",\"qty\":\"0.00780000\",\"quoteQty\":\"0.00053470\",\"time\":1642866968500,\"isBuyerMaker\":true,\"isBestMatch\":true},{\"id\":321098869,\"price\":\"0.06856000\",\"qty\":\"0.21820000\",\"quoteQty\":\"0.01495979\",\"time\":1642866970819,\"isBuyerMaker\":false,\"isBestMatch\":true}]'"
      ]
     },
     "execution_count": 23,
     "metadata": {},
     "output_type": "execute_result"
    }
   ],
   "source": [
    "# Recent trades list\n",
    "res = requests.get(base_url + '/api/v3/trades?symbol=ETHBTC&limit=10')\n",
    "res.text"
   ]
  },
  {
   "cell_type": "code",
   "execution_count": 29,
   "metadata": {},
   "outputs": [
    {
     "data": {
      "text/plain": [
       "'{\"code\":-2014,\"msg\":\"API-key format invalid.\"}'"
      ]
     },
     "execution_count": 29,
     "metadata": {},
     "output_type": "execute_result"
    }
   ],
   "source": [
    "# Old trade lookup (MARKET_DATA)\n",
    "res = requests.get(base_url + '/api/v3/historicalTrades?symbol=BTCUSDT')\n",
    "res.text"
   ]
  },
  {
   "cell_type": "code",
   "execution_count": 40,
   "metadata": {},
   "outputs": [
    {
     "data": {
      "text/plain": [
       "'[{\"id\":1231187857,\"price\":\"35040.01000000\",\"qty\":\"0.00147000\",\"quoteQty\":\"51.50881470\",\"time\":1642870555774,\"isBuyerMaker\":false,\"isBestMatch\":true},{\"id\":1231187858,\"price\":\"35040.01000000\",\"qty\":\"0.01700000\",\"quoteQty\":\"595.68017000\",\"time\":1642870555774,\"isBuyerMaker\":false,\"isBestMatch\":true},{\"id\":1231187859,\"price\":\"35040.01000000\",\"qty\":\"0.06158000\",\"quoteQty\":\"2157.76381580\",\"time\":1642870555774,\"isBuyerMaker\":false,\"isBestMatch\":true},{\"id\":1231187860,\"price\":\"35040.01000000\",\"qty\":\"0.00314000\",\"quoteQty\":\"110.02563140\",\"time\":1642870555774,\"isBuyerMaker\":false,\"isBestMatch\":true},{\"id\":1231187861,\"price\":\"35040.55000000\",\"qty\":\"0.00459000\",\"quoteQty\":\"160.83612450\",\"time\":1642870555774,\"isBuyerMaker\":false,\"isBestMatch\":true},{\"id\":1231187862,\"price\":\"35043.01000000\",\"qty\":\"0.05200000\",\"quoteQty\":\"1822.23652000\",\"time\":1642870555774,\"isBuyerMaker\":false,\"isBestMatch\":true},{\"id\":1231187863,\"price\":\"35043.51000000\",\"qty\":\"0.01091000\",\"quoteQty\":\"382.32469410\",\"time\":1642870555774,\"isBuyerMaker\":false,\"isBestMatch\":true},{\"id\":1231187864,\"price\":\"35043.52000000\",\"qty\":\"0.03100000\",\"quoteQty\":\"1086.34912000\",\"time\":1642870555774,\"isBuyerMaker\":false,\"isBestMatch\":true},{\"id\":1231187865,\"price\":\"35046.48000000\",\"qty\":\"0.09049000\",\"quoteQty\":\"3171.35597520\",\"time\":1642870555774,\"isBuyerMaker\":false,\"isBestMatch\":true},{\"id\":1231187866,\"price\":\"35046.49000000\",\"qty\":\"0.00126000\",\"quoteQty\":\"44.15857740\",\"time\":1642870555774,\"isBuyerMaker\":false,\"isBestMatch\":true}]'"
      ]
     },
     "execution_count": 40,
     "metadata": {},
     "output_type": "execute_result"
    }
   ],
   "source": [
    "# Trades  lookup (MARKET_DATA)\n",
    "#res = requests.get(base_url + '/api/v3/historicalTrades?symbol=BTCUSDT')\n",
    "apikey=\"\"\n",
    "secret=\"\"\n",
    "\n",
    "res = requests.get(base_url + \"/api/v3/historicalTrades?symbol=BTCUSDT&limit=10\", headers={'X-MBX-APIKEY': apikey})\n",
    "res.text"
   ]
  },
  {
   "cell_type": "code",
   "execution_count": 26,
   "metadata": {},
   "outputs": [
    {
     "data": {
      "text/plain": [
       "'[{\"a\":279942870,\"p\":\"0.06848900\",\"q\":\"0.75760000\",\"f\":321099714,\"l\":321099714,\"T\":1642867319824,\"m\":false,\"M\":true},{\"a\":279942871,\"p\":\"0.06849400\",\"q\":\"0.11000000\",\"f\":321099715,\"l\":321099715,\"T\":1642867320022,\"m\":false,\"M\":true},{\"a\":279942872,\"p\":\"0.06849400\",\"q\":\"1.79560000\",\"f\":321099716,\"l\":321099716,\"T\":1642867320222,\"m\":false,\"M\":true},{\"a\":279942873,\"p\":\"0.06849400\",\"q\":\"0.95280000\",\"f\":321099717,\"l\":321099717,\"T\":1642867320304,\"m\":false,\"M\":true},{\"a\":279942874,\"p\":\"0.06849500\",\"q\":\"0.03260000\",\"f\":321099718,\"l\":321099718,\"T\":1642867320352,\"m\":true,\"M\":true},{\"a\":279942875,\"p\":\"0.06849600\",\"q\":\"0.95280000\",\"f\":321099719,\"l\":321099719,\"T\":1642867320353,\"m\":false,\"M\":true},{\"a\":279942876,\"p\":\"0.06849800\",\"q\":\"0.21440000\",\"f\":321099720,\"l\":321099720,\"T\":1642867320356,\"m\":false,\"M\":true},{\"a\":279942877,\"p\":\"0.06851300\",\"q\":\"0.59990000\",\"f\":321099721,\"l\":321099721,\"T\":1642867321001,\"m\":true,\"M\":true},{\"a\":279942878,\"p\":\"0.06851300\",\"q\":\"0.01430000\",\"f\":321099722,\"l\":321099722,\"T\":1642867321009,\"m\":false,\"M\":true},{\"a\":279942879,\"p\":\"0.06851300\",\"q\":\"0.02330000\",\"f\":321099723,\"l\":321099723,\"T\":1642867321031,\"m\":false,\"M\":true}]'"
      ]
     },
     "execution_count": 26,
     "metadata": {},
     "output_type": "execute_result"
    }
   ],
   "source": [
    "# Compressed/Aggregate trades list\n",
    "res = requests.get(base_url + '/api/v3/aggTrades?symbol=ETHBTC&limit=10')\n",
    "res.text"
   ]
  },
  {
   "cell_type": "code",
   "execution_count": 33,
   "metadata": {},
   "outputs": [
    {
     "data": {
      "text/plain": [
       "'[[1642608000000,\"0.07436900\",\"0.07489500\",\"0.07388300\",\"0.07403400\",\"15688.35620000\",1642636799999,\"1168.25529206\",37466,\"7882.80940000\",\"587.05698167\",\"0\"],[1642636800000,\"0.07403400\",\"0.07491700\",\"0.07400000\",\"0.07462400\",\"10948.63900000\",1642665599999,\"816.38974664\",25657,\"5461.51760000\",\"407.19916839\",\"0\"],[1642665600000,\"0.07462800\",\"0.07543700\",\"0.07446900\",\"0.07530800\",\"19735.46010000\",1642694399999,\"1477.82482306\",42131,\"9970.55870000\",\"746.64249279\",\"0\"],[1642694400000,\"0.07530900\",\"0.07531900\",\"0.07366200\",\"0.07377700\",\"23525.14500000\",1642723199999,\"1756.96402648\",55423,\"10635.69390000\",\"795.03862548\",\"0\"],[1642723200000,\"0.07378900\",\"0.07402000\",\"0.07237400\",\"0.07365500\",\"35729.42590000\",1642751999999,\"2623.32394531\",77667,\"16261.72270000\",\"1194.31824181\",\"0\"],[1642752000000,\"0.07366000\",\"0.07406800\",\"0.07219600\",\"0.07285100\",\"37412.79950000\",1642780799999,\"2731.02261230\",74320,\"17601.47220000\",\"1286.29897546\",\"0\"],[1642780800000,\"0.07285100\",\"0.07332600\",\"0.06880300\",\"0.07044400\",\"67415.81070000\",1642809599999,\"4790.80646849\",140384,\"25598.81210000\",\"1821.46821260\",\"0\"],[1642809600000,\"0.07044900\",\"0.07168000\",\"0.06909200\",\"0.06959800\",\"44390.34090000\",1642838399999,\"3130.91851573\",94520,\"21717.85330000\",\"1532.18628651\",\"0\"],[1642838400000,\"0.06958900\",\"0.07001400\",\"0.06760000\",\"0.06851100\",\"60871.33300000\",1642867199999,\"4192.45646738\",123208,\"29374.66170000\",\"2024.22201762\",\"0\"],[1642867200000,\"0.06853000\",\"0.06950400\",\"0.06817100\",\"0.06931800\",\"3077.61950000\",1642895999999,\"211.81323333\",8016,\"1563.34900000\",\"107.65732211\",\"0\"]]'"
      ]
     },
     "execution_count": 33,
     "metadata": {},
     "output_type": "execute_result"
    }
   ],
   "source": [
    "# Kline/Candlestick data\n",
    "res = requests.get(base_url + '/api/v3/klines?symbol=ETHBTC&interval=8h&limit=10')\n",
    "res.text"
   ]
  },
  {
   "cell_type": "code",
   "execution_count": null,
   "metadata": {},
   "outputs": [],
   "source": [
    "\"\"\"\n",
    "[\n",
    "  [\n",
    "    1499040000000,      // Open time\n",
    "    \"0.01634790\",       // Open\n",
    "    \"0.80000000\",       // High\n",
    "    \"0.01575800\",       // Low\n",
    "    \"0.01577100\",       // Close\n",
    "    \"148976.11427815\",  // Volume\n",
    "    1499644799999,      // Close time\n",
    "    \"2434.19055334\",    // Quote asset volume\n",
    "    308,                // Number of trades\n",
    "    \"1756.87402397\",    // Taker buy base asset volume\n",
    "    \"28.46694368\",      // Taker buy quote asset volume\n",
    "    \"17928899.62484339\" // Ignore.\n",
    "  ]\n",
    "]\n",
    "\"\"\""
   ]
  },
  {
   "cell_type": "code",
   "execution_count": null,
   "metadata": {},
   "outputs": [],
   "source": [
    "#import ssl\n",
    "#from websocket import create_connection\n",
    "\n",
    "#import requests\n",
    "\n",
    "#KEY = 'your-secret-key'\n",
    "#url = 'https://api.binance.com/api/v1/userDataStream'\n",
    "#listen_key = requests.post(url, headers={'X-MBX-APIKEY': KEY})['listenKey']\n",
    "#connection = create_connection('wss://stream.binance.com:9443/ws/{}'.format(KEY), \n",
    " #                              sslopt={'cert_reqs': ssl.CERT_NONE})"
   ]
  }
 ],
 "metadata": {
  "interpreter": {
   "hash": "b4c52fb16c90020331cb20ddbfda2b5f6edd1d0bd75d9b199eb2ea587ab3ec3c"
  },
  "kernelspec": {
   "display_name": "Python 3.9.4 64-bit ('pdfextract': conda)",
   "language": "python",
   "name": "python3"
  },
  "language_info": {
   "codemirror_mode": {
    "name": "ipython",
    "version": 3
   },
   "file_extension": ".py",
   "mimetype": "text/x-python",
   "name": "python",
   "nbconvert_exporter": "python",
   "pygments_lexer": "ipython3",
   "version": "3.9.4"
  },
  "orig_nbformat": 4
 },
 "nbformat": 4,
 "nbformat_minor": 2
}
